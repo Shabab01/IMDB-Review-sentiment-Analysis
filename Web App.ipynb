{
 "cells": [
  {
   "cell_type": "code",
   "execution_count": 7,
   "id": "f76cbd2d",
   "metadata": {},
   "outputs": [
    {
     "name": "stderr",
     "output_type": "stream",
     "text": [
      "WARNING:absl:Compiled the loaded model, but the compiled metrics have yet to be built. `model.compile_metrics` will be empty until you train or evaluate the model.\n"
     ]
    }
   ],
   "source": [
    "from keras.models import load_model\n",
    "import joblib\n",
    "from tensorflow.keras.preprocessing.sequence import pad_sequences\n",
    "\n",
    "model = load_model(\"model.h5\")\n",
    "tokenizer = joblib.load(\"tokenizer.pkl\")\n",
    "\n",
    "def predictive_system(review):\n",
    "  sequences = tokenizer.texts_to_sequences([review])\n",
    "  padded_sequence = pad_sequences(sequences, maxlen=200)\n",
    "  prediction = model.predict(padded_sequence)\n",
    "  sentiment = \"Positive Review\" if prediction[0][0] > 0.5 else \"Negative Review\"\n",
    "  return sentiment"
   ]
  },
  {
   "cell_type": "code",
   "execution_count": 8,
   "id": "9ff28979",
   "metadata": {},
   "outputs": [
    {
     "name": "stdout",
     "output_type": "stream",
     "text": [
      "\u001b[1m1/1\u001b[0m \u001b[32m━━━━━━━━━━━━━━━━━━━━\u001b[0m\u001b[37m\u001b[0m \u001b[1m0s\u001b[0m 198ms/step\n"
     ]
    }
   ],
   "source": [
    "review_sentiment = predictive_system(\"Stunning movie\")"
   ]
  },
  {
   "cell_type": "code",
   "execution_count": 9,
   "id": "89d0442a",
   "metadata": {},
   "outputs": [
    {
     "data": {
      "text/plain": [
       "'Positive Review'"
      ]
     },
     "execution_count": 9,
     "metadata": {},
     "output_type": "execute_result"
    }
   ],
   "source": [
    "review_sentiment"
   ]
  },
  {
   "cell_type": "code",
   "execution_count": 10,
   "id": "096e6c9d",
   "metadata": {},
   "outputs": [
    {
     "name": "stdout",
     "output_type": "stream",
     "text": [
      "\u001b[1m1/1\u001b[0m \u001b[32m━━━━━━━━━━━━━━━━━━━━\u001b[0m\u001b[37m\u001b[0m \u001b[1m0s\u001b[0m 16ms/step\n"
     ]
    }
   ],
   "source": [
    "review_sentiment = predictive_system(\"too lengthy movie\")"
   ]
  },
  {
   "cell_type": "code",
   "execution_count": 11,
   "id": "4654e040",
   "metadata": {},
   "outputs": [
    {
     "data": {
      "text/plain": [
       "'Negative Review'"
      ]
     },
     "execution_count": 11,
     "metadata": {},
     "output_type": "execute_result"
    }
   ],
   "source": [
    "review_sentiment"
   ]
  },
  {
   "cell_type": "code",
   "execution_count": 12,
   "id": "d90359f3",
   "metadata": {},
   "outputs": [
    {
     "name": "stdout",
     "output_type": "stream",
     "text": [
      "Running on local URL:  http://127.0.0.1:7861\n",
      "Running on public URL: https://5cfe2826d3a3cf442b.gradio.live\n",
      "\n",
      "This share link expires in 72 hours. For free permanent hosting and GPU upgrades, run `gradio deploy` from Terminal to deploy to Spaces (https://huggingface.co/spaces)\n"
     ]
    },
    {
     "data": {
      "text/html": [
       "<div><iframe src=\"https://5cfe2826d3a3cf442b.gradio.live\" width=\"100%\" height=\"500\" allow=\"autoplay; camera; microphone; clipboard-read; clipboard-write;\" frameborder=\"0\" allowfullscreen></iframe></div>"
      ],
      "text/plain": [
       "<IPython.core.display.HTML object>"
      ]
     },
     "metadata": {},
     "output_type": "display_data"
    },
    {
     "data": {
      "text/plain": []
     },
     "execution_count": 12,
     "metadata": {},
     "output_type": "execute_result"
    },
    {
     "name": "stdout",
     "output_type": "stream",
     "text": [
      "\u001b[1m1/1\u001b[0m \u001b[32m━━━━━━━━━━━━━━━━━━━━\u001b[0m\u001b[37m\u001b[0m \u001b[1m0s\u001b[0m 26ms/step\n",
      "\u001b[1m1/1\u001b[0m \u001b[32m━━━━━━━━━━━━━━━━━━━━\u001b[0m\u001b[37m\u001b[0m \u001b[1m0s\u001b[0m 28ms/step\n",
      "\u001b[1m1/1\u001b[0m \u001b[32m━━━━━━━━━━━━━━━━━━━━\u001b[0m\u001b[37m\u001b[0m \u001b[1m0s\u001b[0m 24ms/step\n"
     ]
    }
   ],
   "source": [
    "import gradio as gr\n",
    "title = \"IMDB MOVIE SENTIMENT ANALYSIS APP\"\n",
    "\n",
    "app = gr.Interface(fn = predictive_system, inputs=\"textbox\", outputs=\"textbox\", title=title)\n",
    "\n",
    "app.launch(share=True)"
   ]
  }
 ],
 "metadata": {
  "kernelspec": {
   "display_name": "Python 3 (ipykernel)",
   "language": "python",
   "name": "python3"
  },
  "language_info": {
   "codemirror_mode": {
    "name": "ipython",
    "version": 3
   },
   "file_extension": ".py",
   "mimetype": "text/x-python",
   "name": "python",
   "nbconvert_exporter": "python",
   "pygments_lexer": "ipython3",
   "version": "3.11.5"
  }
 },
 "nbformat": 4,
 "nbformat_minor": 5
}
